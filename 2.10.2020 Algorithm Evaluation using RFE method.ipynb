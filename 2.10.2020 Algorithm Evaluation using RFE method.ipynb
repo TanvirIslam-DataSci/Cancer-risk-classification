{
 "cells": [
  {
   "cell_type": "code",
   "execution_count": 1,
   "metadata": {},
   "outputs": [
    {
     "name": "stdout",
     "output_type": "stream",
     "text": [
      "     Age Number of sexual partners First sexual intercourse  \\\n",
      "0     18                       4.0                     15.0   \n",
      "1     15                       1.0                     14.0   \n",
      "2     34                       1.0                        ?   \n",
      "3     52                       5.0                     16.0   \n",
      "4     46                       3.0                     21.0   \n",
      "..   ...                       ...                      ...   \n",
      "853   34                       3.0                     18.0   \n",
      "854   32                       2.0                     19.0   \n",
      "855   25                       2.0                     17.0   \n",
      "856   33                       2.0                     24.0   \n",
      "857   29                       2.0                     20.0   \n",
      "\n",
      "    Num of pregnancies Smokes Smokes (years) Smokes (packs/year)  \\\n",
      "0                  1.0    0.0            0.0                 0.0   \n",
      "1                  1.0    0.0            0.0                 0.0   \n",
      "2                  1.0    0.0            0.0                 0.0   \n",
      "3                  4.0    1.0           37.0                37.0   \n",
      "4                  4.0    0.0            0.0                 0.0   \n",
      "..                 ...    ...            ...                 ...   \n",
      "853                0.0    0.0            0.0                 0.0   \n",
      "854                1.0    0.0            0.0                 0.0   \n",
      "855                0.0    0.0            0.0                 0.0   \n",
      "856                2.0    0.0            0.0                 0.0   \n",
      "857                1.0    0.0            0.0                 0.0   \n",
      "\n",
      "    Hormonal Contraceptives Hormonal Contraceptives (years)  IUD  ...  \\\n",
      "0                       0.0                             0.0  0.0  ...   \n",
      "1                       0.0                             0.0  0.0  ...   \n",
      "2                       0.0                             0.0  0.0  ...   \n",
      "3                       1.0                             3.0  0.0  ...   \n",
      "4                       1.0                            15.0  0.0  ...   \n",
      "..                      ...                             ...  ...  ...   \n",
      "853                     0.0                             0.0  0.0  ...   \n",
      "854                     1.0                             8.0  0.0  ...   \n",
      "855                     1.0                            0.08  0.0  ...   \n",
      "856                     1.0                            0.08  0.0  ...   \n",
      "857                     1.0                             0.5  0.0  ...   \n",
      "\n",
      "    STDs:HPV STDs: Number of diagnosis Dx:Cancer Dx:CIN Dx:HPV Dx Hinselmann  \\\n",
      "0        0.0                         0         0      0      0  0          0   \n",
      "1        0.0                         0         0      0      0  0          0   \n",
      "2        0.0                         0         0      0      0  0          0   \n",
      "3        0.0                         0         1      0      1  0          0   \n",
      "4        0.0                         0         0      0      0  0          0   \n",
      "..       ...                       ...       ...    ...    ... ..        ...   \n",
      "853      0.0                         0         0      0      0  0          0   \n",
      "854      0.0                         0         0      0      0  0          0   \n",
      "855      0.0                         0         0      0      0  0          0   \n",
      "856      0.0                         0         0      0      0  0          0   \n",
      "857      0.0                         0         0      0      0  0          0   \n",
      "\n",
      "    Schiller Citology Biopsy  \n",
      "0          0        0      0  \n",
      "1          0        0      0  \n",
      "2          0        0      0  \n",
      "3          0        0      0  \n",
      "4          0        0      0  \n",
      "..       ...      ...    ...  \n",
      "853        0        0      0  \n",
      "854        0        0      0  \n",
      "855        0        1      0  \n",
      "856        0        0      0  \n",
      "857        0        0      0  \n",
      "\n",
      "[858 rows x 34 columns]\n",
      "     Age  Number of sexual partners  First sexual intercourse  \\\n",
      "0     18                        4.0                      15.0   \n",
      "1     15                        1.0                      14.0   \n",
      "3     52                        5.0                      16.0   \n",
      "4     46                        3.0                      21.0   \n",
      "5     42                        3.0                      23.0   \n",
      "..   ...                        ...                       ...   \n",
      "853   34                        3.0                      18.0   \n",
      "854   32                        2.0                      19.0   \n",
      "855   25                        2.0                      17.0   \n",
      "856   33                        2.0                      24.0   \n",
      "857   29                        2.0                      20.0   \n",
      "\n",
      "     Num of pregnancies  Smokes  Smokes (years)  Smokes (packs/year)  \\\n",
      "0                   1.0     0.0             0.0                  0.0   \n",
      "1                   1.0     0.0             0.0                  0.0   \n",
      "3                   4.0     1.0            37.0                 37.0   \n",
      "4                   4.0     0.0             0.0                  0.0   \n",
      "5                   2.0     0.0             0.0                  0.0   \n",
      "..                  ...     ...             ...                  ...   \n",
      "853                 0.0     0.0             0.0                  0.0   \n",
      "854                 1.0     0.0             0.0                  0.0   \n",
      "855                 0.0     0.0             0.0                  0.0   \n",
      "856                 2.0     0.0             0.0                  0.0   \n",
      "857                 1.0     0.0             0.0                  0.0   \n",
      "\n",
      "     Hormonal Contraceptives  Hormonal Contraceptives (years)  IUD  ...  \\\n",
      "0                        0.0                             0.00  0.0  ...   \n",
      "1                        0.0                             0.00  0.0  ...   \n",
      "3                        1.0                             3.00  0.0  ...   \n",
      "4                        1.0                            15.00  0.0  ...   \n",
      "5                        0.0                             0.00  0.0  ...   \n",
      "..                       ...                              ...  ...  ...   \n",
      "853                      0.0                             0.00  0.0  ...   \n",
      "854                      1.0                             8.00  0.0  ...   \n",
      "855                      1.0                             0.08  0.0  ...   \n",
      "856                      1.0                             0.08  0.0  ...   \n",
      "857                      1.0                             0.50  0.0  ...   \n",
      "\n",
      "     STDs:HPV  STDs: Number of diagnosis  Dx:Cancer  Dx:CIN  Dx:HPV  Dx  \\\n",
      "0         0.0                          0          0       0       0   0   \n",
      "1         0.0                          0          0       0       0   0   \n",
      "3         0.0                          0          1       0       1   0   \n",
      "4         0.0                          0          0       0       0   0   \n",
      "5         0.0                          0          0       0       0   0   \n",
      "..        ...                        ...        ...     ...     ...  ..   \n",
      "853       0.0                          0          0       0       0   0   \n",
      "854       0.0                          0          0       0       0   0   \n",
      "855       0.0                          0          0       0       0   0   \n",
      "856       0.0                          0          0       0       0   0   \n",
      "857       0.0                          0          0       0       0   0   \n",
      "\n",
      "     Hinselmann  Schiller  Citology  Biopsy  \n",
      "0             0         0         0       0  \n",
      "1             0         0         0       0  \n",
      "3             0         0         0       0  \n",
      "4             0         0         0       0  \n",
      "5             0         0         0       0  \n",
      "..          ...       ...       ...     ...  \n",
      "853           0         0         0       0  \n",
      "854           0         0         0       0  \n",
      "855           0         0         1       0  \n",
      "856           0         0         0       0  \n",
      "857           0         0         0       0  \n",
      "\n",
      "[668 rows x 34 columns]\n"
     ]
    }
   ],
   "source": [
    "#preprocessing the dataset,load the file,dropping 2 column,dropping the missing value\n",
    "import pandas as pd\n",
    "import seaborn as sns\n",
    "%matplotlib inline\n",
    "import numpy as np\n",
    "import matplotlib.pyplot as plt\n",
    "\n",
    "from sklearn.feature_selection import SelectKBest, chi2\n",
    "from sklearn.model_selection import train_test_split\n",
    "from sklearn.metrics import accuracy_score\n",
    "from sklearn.metrics import classification_report, confusion_matrix\n",
    "from sklearn.svm import SVC\n",
    "from sklearn.naive_bayes import GaussianNB\n",
    "from sklearn.ensemble import BaggingClassifier\n",
    "from sklearn.model_selection import cross_val_score\n",
    "from sklearn.preprocessing import MinMaxScaler\n",
    "import pandas as pd\n",
    "from numpy import where\n",
    "df = pd.read_csv (r'C:\\Users\\USER\\Desktop\\masters\\kaggle_cervical_dataset.csv')  \n",
    "df.drop([\"STDs: Time since first diagnosis\", \"STDs: Time since last diagnosis\"], axis = 1, inplace = True)\n",
    "print(df)\n",
    "df = df.apply (pd.to_numeric, errors='coerce')\n",
    "df = df.dropna()\n",
    "print (df)"
   ]
  },
  {
   "cell_type": "code",
   "execution_count": 2,
   "metadata": {},
   "outputs": [
    {
     "name": "stdout",
     "output_type": "stream",
     "text": [
      "     Age  Number of sexual partners  First sexual intercourse  \\\n",
      "0     18                        4.0                      15.0   \n",
      "1     15                        1.0                      14.0   \n",
      "3     52                        5.0                      16.0   \n",
      "4     46                        3.0                      21.0   \n",
      "5     42                        3.0                      23.0   \n",
      "..   ...                        ...                       ...   \n",
      "853   34                        3.0                      18.0   \n",
      "854   32                        2.0                      19.0   \n",
      "855   25                        2.0                      17.0   \n",
      "856   33                        2.0                      24.0   \n",
      "857   29                        2.0                      20.0   \n",
      "\n",
      "     Num of pregnancies  Smokes  Smokes (years)  Smokes (packs/year)  \\\n",
      "0                   1.0     0.0             0.0                  0.0   \n",
      "1                   1.0     0.0             0.0                  0.0   \n",
      "3                   4.0     1.0            37.0                 37.0   \n",
      "4                   4.0     0.0             0.0                  0.0   \n",
      "5                   2.0     0.0             0.0                  0.0   \n",
      "..                  ...     ...             ...                  ...   \n",
      "853                 0.0     0.0             0.0                  0.0   \n",
      "854                 1.0     0.0             0.0                  0.0   \n",
      "855                 0.0     0.0             0.0                  0.0   \n",
      "856                 2.0     0.0             0.0                  0.0   \n",
      "857                 1.0     0.0             0.0                  0.0   \n",
      "\n",
      "     Hormonal Contraceptives  Hormonal Contraceptives (years)  IUD  ...  \\\n",
      "0                        0.0                             0.00  0.0  ...   \n",
      "1                        0.0                             0.00  0.0  ...   \n",
      "3                        1.0                             3.00  0.0  ...   \n",
      "4                        1.0                            15.00  0.0  ...   \n",
      "5                        0.0                             0.00  0.0  ...   \n",
      "..                       ...                              ...  ...  ...   \n",
      "853                      0.0                             0.00  0.0  ...   \n",
      "854                      1.0                             8.00  0.0  ...   \n",
      "855                      1.0                             0.08  0.0  ...   \n",
      "856                      1.0                             0.08  0.0  ...   \n",
      "857                      1.0                             0.50  0.0  ...   \n",
      "\n",
      "     STDs: Number of diagnosis  Dx:Cancer  Dx:CIN  Dx:HPV  Dx  Hinselmann  \\\n",
      "0                            0          0       0       0   0           0   \n",
      "1                            0          0       0       0   0           0   \n",
      "3                            0          1       0       1   0           0   \n",
      "4                            0          0       0       0   0           0   \n",
      "5                            0          0       0       0   0           0   \n",
      "..                         ...        ...     ...     ...  ..         ...   \n",
      "853                          0          0       0       0   0           0   \n",
      "854                          0          0       0       0   0           0   \n",
      "855                          0          0       0       0   0           0   \n",
      "856                          0          0       0       0   0           0   \n",
      "857                          0          0       0       0   0           0   \n",
      "\n",
      "     Schiller  Citology  Biopsy  final target  \n",
      "0           0         0       0             0  \n",
      "1           0         0       0             0  \n",
      "3           0         0       0             0  \n",
      "4           0         0       0             0  \n",
      "5           0         0       0             0  \n",
      "..        ...       ...     ...           ...  \n",
      "853         0         0       0             0  \n",
      "854         0         0       0             0  \n",
      "855         0         1       0             1  \n",
      "856         0         0       0             0  \n",
      "857         0         0       0             0  \n",
      "\n",
      "[668 rows x 35 columns]\n",
      "Counter({0: 582, 1: 86})\n",
      "Counter({0: 582, 1: 582})\n"
     ]
    }
   ],
   "source": [
    "#combining the 4 target values to single column named final target and then balancing the data using borderlinesmote..\n",
    "from collections import Counter\n",
    "from imblearn.over_sampling import BorderlineSMOTE\n",
    "df['final target']= df['Hinselmann'] | df['Schiller'] | df['Citology'] | df['Biopsy']\n",
    "print (df)\n",
    "X=df.iloc[:,0:30]\n",
    "y= df.iloc[:,34]\n",
    "counter = Counter(y)\n",
    "print(counter)\n",
    "oversample = BorderlineSMOTE()\n",
    "X, y = oversample.fit_resample(X, y)\n",
    "# summarize the new class distribution\n",
    "counter = Counter(y)\n",
    "print(counter)"
   ]
  },
  {
   "cell_type": "code",
   "execution_count": 11,
   "metadata": {},
   "outputs": [
    {
     "name": "stdout",
     "output_type": "stream",
     "text": [
      "      Age  Number of sexual partners  First sexual intercourse  \\\n",
      "0      18                   4.000000                 15.000000   \n",
      "1      15                   1.000000                 14.000000   \n",
      "2      52                   5.000000                 16.000000   \n",
      "3      46                   3.000000                 21.000000   \n",
      "4      42                   3.000000                 23.000000   \n",
      "...   ...                        ...                       ...   \n",
      "1159   28                   5.000000                 14.931190   \n",
      "1160   34                   3.000000                 16.536229   \n",
      "1161   18                   2.000000                 15.000000   \n",
      "1162   18                   2.000000                 15.000000   \n",
      "1163   18                   1.482754                 15.517246   \n",
      "\n",
      "      Num of pregnancies  Smokes (years)  Smokes (packs/year)  \\\n",
      "0               1.000000        0.000000             0.000000   \n",
      "1               1.000000        0.000000             0.000000   \n",
      "2               4.000000       37.000000            37.000000   \n",
      "3               4.000000        0.000000             0.000000   \n",
      "4               2.000000        0.000000             0.000000   \n",
      "...                  ...             ...                  ...   \n",
      "1159            4.000000        0.000000             0.000000   \n",
      "1160            5.072458       13.463771             2.043475   \n",
      "1161            1.634688        0.317344             0.031734   \n",
      "1162            2.972934        6.945869             3.439102   \n",
      "1163            1.965508        4.413769             1.715501   \n",
      "\n",
      "      Hormonal Contraceptives  Hormonal Contraceptives (years)  IUD (years)  \\\n",
      "0                    0.000000                         0.000000          0.0   \n",
      "1                    0.000000                         0.000000          0.0   \n",
      "2                    1.000000                         3.000000          0.0   \n",
      "3                    1.000000                        15.000000          0.0   \n",
      "4                    0.000000                         0.000000          0.0   \n",
      "...                       ...                              ...          ...   \n",
      "1159                 0.068810                         0.206431          0.0   \n",
      "1160                 1.000000                         4.217374          0.0   \n",
      "1161                 0.634688                         0.209447          0.0   \n",
      "1162                 1.000000                         1.135329          0.0   \n",
      "1163                 0.482754                         0.482754          0.0   \n",
      "\n",
      "      STDs (number)  \n",
      "0          0.000000  \n",
      "1          0.000000  \n",
      "2          0.000000  \n",
      "3          0.000000  \n",
      "4          0.000000  \n",
      "...             ...  \n",
      "1159       0.000000  \n",
      "1160       1.000000  \n",
      "1161       0.000000  \n",
      "1162       0.000000  \n",
      "1163       1.034492  \n",
      "\n",
      "[1164 rows x 10 columns]\n",
      "0       0\n",
      "1       0\n",
      "2       0\n",
      "3       0\n",
      "4       0\n",
      "       ..\n",
      "1159    1\n",
      "1160    1\n",
      "1161    1\n",
      "1162    1\n",
      "1163    1\n",
      "Name: final target, Length: 1164, dtype: int64\n"
     ]
    }
   ],
   "source": [
    "X=df.iloc[:,0:30]\n",
    "y= df.iloc[:,34]\n",
    "oversample = BorderlineSMOTE()\n",
    "X, y = oversample.fit_resample(X, y)\n",
    "x_new = X[['Age','Number of sexual partners','First sexual intercourse', 'Num of pregnancies', 'Smokes (years)', 'Smokes (packs/year)',\n",
    "           'Hormonal Contraceptives','Hormonal Contraceptives (years)','IUD (years)', 'STDs (number)']]\n",
    "y_new = y\n",
    "print(x_new)\n",
    "print(y_new)"
   ]
  },
  {
   "cell_type": "code",
   "execution_count": 30,
   "metadata": {},
   "outputs": [
    {
     "name": "stdout",
     "output_type": "stream",
     "text": [
      ">RandomForestClassifier()= 0.930 (0.046) 0.957 0.909 0.929\n"
     ]
    }
   ],
   "source": [
    "from sklearn.model_selection import RepeatedStratifiedKFold\n",
    "from sklearn.feature_selection import RFE\n",
    "from numpy import mean\n",
    "from numpy import std\n",
    "from sklearn.feature_selection import RFE\n",
    "from sklearn.svm import SVC\n",
    "from sklearn.linear_model import LogisticRegression\n",
    "from sklearn.linear_model import Perceptron\n",
    "from sklearn.tree import DecisionTreeClassifier\n",
    "from sklearn.ensemble import RandomForestClassifier\n",
    "from sklearn.ensemble import GradientBoostingClassifier\n",
    "from sklearn.pipeline import Pipeline\n",
    "model1 = RandomForestClassifier()\n",
    "model1.fit(x_new,y_new) \n",
    "cv = RepeatedStratifiedKFold(n_splits=30, n_repeats=3, random_state=1)\n",
    "scores1 = cross_val_score(model1, x_new, y_new, scoring='accuracy', cv=cv, n_jobs=-1)\n",
    "scores2 = cross_val_score(model1, x_new, y_new, scoring='precision', cv=cv, n_jobs=-1)\n",
    "scores3 = cross_val_score(model1, x_new, y_new, scoring='recall', cv=cv, n_jobs=-1)\n",
    "scores4 = cross_val_score(model1, x_new, y_new, scoring='f1', cv=cv, n_jobs=-1)\n",
    "print('>%s= %.3f (%.3f) %.3f %.3f %.3f' % (model1, mean(scores1), std(scores),mean(scores2),mean(scores3),mean(scores4)))"
   ]
  },
  {
   "cell_type": "code",
   "execution_count": 32,
   "metadata": {},
   "outputs": [
    {
     "name": "stderr",
     "output_type": "stream",
     "text": [
      "C:\\Users\\USER\\anaconda3\\lib\\site-packages\\sklearn\\linear_model\\_logistic.py:762: ConvergenceWarning: lbfgs failed to converge (status=1):\n",
      "STOP: TOTAL NO. of ITERATIONS REACHED LIMIT.\n",
      "\n",
      "Increase the number of iterations (max_iter) or scale the data as shown in:\n",
      "    https://scikit-learn.org/stable/modules/preprocessing.html\n",
      "Please also refer to the documentation for alternative solver options:\n",
      "    https://scikit-learn.org/stable/modules/linear_model.html#logistic-regression\n",
      "  n_iter_i = _check_optimize_result(\n"
     ]
    },
    {
     "name": "stdout",
     "output_type": "stream",
     "text": [
      ">LogisticRegression()= 0.933 (0.046) 0.958 0.909 0.932\n"
     ]
    }
   ],
   "source": [
    "model2 = LogisticRegression()\n",
    "model2.fit(x_new,y_new) \n",
    "cv = RepeatedStratifiedKFold(n_splits=30, n_repeats=3, random_state=1)\n",
    "scores1 = cross_val_score(model1, x_new, y_new, scoring='accuracy', cv=cv, n_jobs=-1)\n",
    "scores2 = cross_val_score(model1, x_new, y_new, scoring='precision', cv=cv, n_jobs=-1)\n",
    "scores3 = cross_val_score(model1, x_new, y_new, scoring='recall', cv=cv, n_jobs=-1)\n",
    "scores4 = cross_val_score(model1, x_new, y_new, scoring='f1', cv=cv, n_jobs=-1)\n",
    "print('>%s= %.3f (%.3f) %.3f %.3f %.3f' % (model2, mean(scores1), std(scores),mean(scores2),mean(scores3),mean(scores4)))"
   ]
  },
  {
   "cell_type": "code",
   "execution_count": 56,
   "metadata": {},
   "outputs": [
    {
     "name": "stdout",
     "output_type": "stream",
     "text": [
      ">Perceptron()= 0.933 (0.046) 0.957 0.910 0.930\n"
     ]
    }
   ],
   "source": [
    "model3 = Perceptron()\n",
    "model3.fit(x_new,y_new) \n",
    "cv = RepeatedStratifiedKFold(n_splits=30, n_repeats=3, random_state=1)\n",
    "scores1 = cross_val_score(model1, x_new, y_new, scoring='accuracy', cv=cv, n_jobs=-1)\n",
    "scores2 = cross_val_score(model1, x_new, y_new, scoring='precision', cv=cv, n_jobs=-1)\n",
    "scores3 = cross_val_score(model1, x_new, y_new, scoring='recall', cv=cv, n_jobs=-1)\n",
    "scores4 = cross_val_score(model1, x_new, y_new, scoring='f1', cv=cv, n_jobs=-1)\n",
    "print('>%s= %.3f (%.3f) %.3f %.3f %.3f' % (model3, mean(scores1), std(scores),mean(scores2),mean(scores3),mean(scores4)))\n"
   ]
  },
  {
   "cell_type": "code",
   "execution_count": 35,
   "metadata": {},
   "outputs": [
    {
     "name": "stdout",
     "output_type": "stream",
     "text": [
      ">XGBClassifier(base_score=0.5, booster='gbtree', colsample_bylevel=1,\n",
      "              colsample_bynode=1, colsample_bytree=1, gamma=0, gpu_id=-1,\n",
      "              importance_type='gain', interaction_constraints='',\n",
      "              learning_rate=0.300000012, max_delta_step=0, max_depth=6,\n",
      "              min_child_weight=1, missing=nan, monotone_constraints='()',\n",
      "              n_estimators=100, n_jobs=0, num_parallel_tree=1, random_state=0,\n",
      "              reg_alpha=0, reg_lambda=1, scale_pos_weight=1, subsample=1,\n",
      "              tree_method='exact', validate_parameters=1, verbosity=None)= 0.934 (0.046) 0.957 0.906 0.928\n"
     ]
    }
   ],
   "source": [
    "from xgboost import XGBClassifier\n",
    "model4 =  XGBClassifier()\n",
    "model4.fit(x_new,y_new) \n",
    "cv = RepeatedStratifiedKFold(n_splits=30, n_repeats=3, random_state=1)\n",
    "scores1 = cross_val_score(model1, x_new, y_new, scoring='accuracy', cv=cv, n_jobs=-1)\n",
    "scores2 = cross_val_score(model1, x_new, y_new, scoring='precision', cv=cv, n_jobs=-1)\n",
    "scores3 = cross_val_score(model1, x_new, y_new, scoring='recall', cv=cv, n_jobs=-1)\n",
    "scores4 = cross_val_score(model1, x_new, y_new, scoring='f1', cv=cv, n_jobs=-1)\n",
    "print('>%s= %.3f (%.3f) %.3f %.3f %.3f' % (model4, mean(scores1), std(scores),mean(scores2),mean(scores3),mean(scores4)))"
   ]
  },
  {
   "cell_type": "code",
   "execution_count": 37,
   "metadata": {},
   "outputs": [
    {
     "name": "stdout",
     "output_type": "stream",
     "text": [
      ">KNeighborsClassifier()= 0.928 (0.046) 0.954 0.908 0.928\n"
     ]
    }
   ],
   "source": [
    "from sklearn.neighbors import KNeighborsClassifier\n",
    "model5=KNeighborsClassifier()\n",
    "model5.fit(x_new,y_new) \n",
    "cv = RepeatedStratifiedKFold(n_splits=30, n_repeats=3, random_state=1)\n",
    "scores1 = cross_val_score(model1, x_new, y_new, scoring='accuracy', cv=cv, n_jobs=-1)\n",
    "scores2 = cross_val_score(model1, x_new, y_new, scoring='precision', cv=cv, n_jobs=-1)\n",
    "scores3 = cross_val_score(model1, x_new, y_new, scoring='recall', cv=cv, n_jobs=-1)\n",
    "scores4 = cross_val_score(model1, x_new, y_new, scoring='f1', cv=cv, n_jobs=-1)\n",
    "print('>%s= %.3f (%.3f) %.3f %.3f %.3f' % (model5, mean(scores1), std(scores),mean(scores2),mean(scores3),mean(scores4)))"
   ]
  },
  {
   "cell_type": "code",
   "execution_count": 43,
   "metadata": {},
   "outputs": [
    {
     "name": "stdout",
     "output_type": "stream",
     "text": [
      ">SVC(kernel='linear')= 0.929 (0.046) 0.953 0.909 0.929\n"
     ]
    }
   ],
   "source": [
    "model6=SVC(kernel='linear')\n",
    "model6.fit(x_new,y_new) \n",
    "cv = RepeatedStratifiedKFold(n_splits=30, n_repeats=3, random_state=1)\n",
    "scores1 = cross_val_score(model1, x_new, y_new, scoring='accuracy', cv=cv, n_jobs=-1)\n",
    "scores2 = cross_val_score(model1, x_new, y_new, scoring='precision', cv=cv, n_jobs=-1)\n",
    "scores3 = cross_val_score(model1, x_new, y_new, scoring='recall', cv=cv, n_jobs=-1)\n",
    "scores4 = cross_val_score(model1, x_new, y_new, scoring='f1', cv=cv, n_jobs=-1)\n",
    "print('>%s= %.3f (%.3f) %.3f %.3f %.3f' % (model6, mean(scores1), std(scores),mean(scores2),mean(scores3),mean(scores4)))"
   ]
  },
  {
   "cell_type": "code",
   "execution_count": 44,
   "metadata": {},
   "outputs": [
    {
     "name": "stdout",
     "output_type": "stream",
     "text": [
      ">GaussianNB()= 0.932 (0.046) 0.957 0.907 0.929\n"
     ]
    }
   ],
   "source": [
    "from sklearn.naive_bayes import GaussianNB\n",
    "model7=GaussianNB()\n",
    "model7.fit(x_new,y_new) \n",
    "cv = RepeatedStratifiedKFold(n_splits=30, n_repeats=3, random_state=1)\n",
    "scores1 = cross_val_score(model1, x_new, y_new, scoring='accuracy', cv=cv, n_jobs=-1)\n",
    "scores2 = cross_val_score(model1, x_new, y_new, scoring='precision', cv=cv, n_jobs=-1)\n",
    "scores3 = cross_val_score(model1, x_new, y_new, scoring='recall', cv=cv, n_jobs=-1)\n",
    "scores4 = cross_val_score(model1, x_new, y_new, scoring='f1', cv=cv, n_jobs=-1)\n",
    "print('>%s= %.3f (%.3f) %.3f %.3f %.3f' % (model7, mean(scores1), std(scores),mean(scores2),mean(scores3),mean(scores4)))"
   ]
  },
  {
   "cell_type": "code",
   "execution_count": 45,
   "metadata": {},
   "outputs": [
    {
     "name": "stdout",
     "output_type": "stream",
     "text": [
      ">DecisionTreeClassifier()= 0.931 (0.046) 0.958 0.910 0.932\n"
     ]
    }
   ],
   "source": [
    "model8=DecisionTreeClassifier()\n",
    "model8.fit(x_new,y_new) \n",
    "cv = RepeatedStratifiedKFold(n_splits=30, n_repeats=3, random_state=1)\n",
    "scores1 = cross_val_score(model1, x_new, y_new, scoring='accuracy', cv=cv, n_jobs=-1)\n",
    "scores2 = cross_val_score(model1, x_new, y_new, scoring='precision', cv=cv, n_jobs=-1)\n",
    "scores3 = cross_val_score(model1, x_new, y_new, scoring='recall', cv=cv, n_jobs=-1)\n",
    "scores4 = cross_val_score(model1, x_new, y_new, scoring='f1', cv=cv, n_jobs=-1)\n",
    "print('>%s= %.3f (%.3f) %.3f %.3f %.3f' % (model8, mean(scores1), std(scores),mean(scores2),mean(scores3),mean(scores4)))"
   ]
  },
  {
   "cell_type": "code",
   "execution_count": 53,
   "metadata": {},
   "outputs": [
    {
     "name": "stdout",
     "output_type": "stream",
     "text": [
      ">VotingClassifier(estimators=[('LR', LogisticRegression(solver='liblinear')),\n",
      "                             ('SVC', SVC(kernel='linear')),\n",
      "                             ('GNB', GaussianNB())])= 0.931 (0.046) 0.955 0.907 0.928\n"
     ]
    }
   ],
   "source": [
    "from sklearn.ensemble import VotingClassifier\n",
    "estimator = [] \n",
    "estimator.append(('LR', LogisticRegression(solver ='liblinear'))) \n",
    "estimator.append(('SVC', SVC(kernel='linear'))) \n",
    "estimator.append(('GNB', GaussianNB())) \n",
    "\n",
    "model9=VotingClassifier(estimators = estimator, voting ='hard')\n",
    "model9.fit(x_new,y_new) \n",
    "cv = RepeatedStratifiedKFold(n_splits=30, n_repeats=3, random_state=1)\n",
    "scores1 = cross_val_score(model1, x_new, y_new, scoring='accuracy', cv=cv, n_jobs=-1)\n",
    "scores2 = cross_val_score(model1, x_new, y_new, scoring='precision', cv=cv, n_jobs=-1)\n",
    "scores3 = cross_val_score(model1, x_new, y_new, scoring='recall', cv=cv, n_jobs=-1)\n",
    "scores4 = cross_val_score(model1, x_new, y_new, scoring='f1', cv=cv, n_jobs=-1)\n",
    "print('>%s= %.3f (%.3f) %.3f %.3f %.3f' % (model9, mean(scores1), std(scores),mean(scores2),mean(scores3),mean(scores4)))"
   ]
  },
  {
   "cell_type": "code",
   "execution_count": 55,
   "metadata": {},
   "outputs": [
    {
     "name": "stdout",
     "output_type": "stream",
     "text": [
      ">AdaBoostClassifier()= 0.930 (0.046) 0.956 0.907 0.930\n"
     ]
    }
   ],
   "source": [
    "from sklearn.ensemble import AdaBoostClassifier\n",
    "model10=AdaBoostClassifier()\n",
    "model10.fit(x_new,y_new) \n",
    "cv = RepeatedStratifiedKFold(n_splits=30, n_repeats=3, random_state=1)\n",
    "scores1 = cross_val_score(model1, x_new, y_new, scoring='accuracy', cv=cv, n_jobs=-1)\n",
    "scores2 = cross_val_score(model1, x_new, y_new, scoring='precision', cv=cv, n_jobs=-1)\n",
    "scores3 = cross_val_score(model1, x_new, y_new, scoring='recall', cv=cv, n_jobs=-1)\n",
    "scores4 = cross_val_score(model1, x_new, y_new, scoring='f1', cv=cv, n_jobs=-1)\n",
    "print('>%s= %.3f (%.3f) %.3f %.3f %.3f' % (model10, mean(scores1), std(scores),mean(scores2),mean(scores3),mean(scores4)))"
   ]
  },
  {
   "cell_type": "code",
   "execution_count": null,
   "metadata": {},
   "outputs": [],
   "source": []
  }
 ],
 "metadata": {
  "kernelspec": {
   "display_name": "Python 3",
   "language": "python",
   "name": "python3"
  },
  "language_info": {
   "codemirror_mode": {
    "name": "ipython",
    "version": 3
   },
   "file_extension": ".py",
   "mimetype": "text/x-python",
   "name": "python",
   "nbconvert_exporter": "python",
   "pygments_lexer": "ipython3",
   "version": "3.8.3"
  }
 },
 "nbformat": 4,
 "nbformat_minor": 4
}
